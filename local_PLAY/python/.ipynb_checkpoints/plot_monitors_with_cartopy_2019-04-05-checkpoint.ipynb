{
 "cells": [
  {
   "cell_type": "markdown",
   "metadata": {},
   "source": [
    "# Plot Monitors on top of AOD using `cartopy`\n",
    "\n",
    "In my [last notebook][notebook-link], I overlayed state capitol locations on top of an AOD plot using `cartopy`. Now, I will try to do the same with air quality monitors. This will involve retrieving monitoring data in R using the `PWFSLSmoke` package, importing the data into Python, and plotting in on top of the AOD plot using color to represent AQI values.\n",
    "\n",
    "[notebook-link]: add_known_locations_to_cartopy_plots_2019-04-05.ipynb\n",
    "\n",
    "## Goal\n",
    "\n",
    "Plot air quality monitors colored by AQI value on top of AOD data "
   ]
  },
  {
   "cell_type": "markdown",
   "metadata": {},
   "source": [
    "## Generate monitoring data\n",
    "\n",
    "To generate a CSV containing the latitudes, longitudes and pm2.5 values for all airsis, WRCC, and EPA air quality monitors, I used the following R script, which can also be found in `write_monitor_csv.R`.\n",
    "\n",
    "```R\n",
    "library(PWFSLSmoke)\n",
    "library(lubridate)\n",
    "\n",
    "datetime <- \"201903191512\"\n",
    "\n",
    "aod_datetime <- as_datetime(datetime,\n",
    "                            format=\"%Y%m%d%H%M\")\n",
    "\n",
    "# Retrieve data for 3 days preceding the time that the AOD data was collected\n",
    "# to apply nowcast algorithm\n",
    "monitor <- monitor_load(aod_datetime - days(3), aod_datetime)\n",
    "\n",
    "# apply nowcast algorithm and retrieve the hour associated with AOD data\n",
    "monitor_data <-\n",
    "  monitor_nowcast(monitor) %>%\n",
    "  monitor_extractData() %>%\n",
    "  dplyr::filter(datetime == floor_date(aod_datetime, unit = \"hours\")) %>%\n",
    "  dplyr::select(-datetime) %>%\n",
    "  as.numeric()\n",
    "\n",
    "tbl <- tibble(\n",
    "  latitude = monitor$meta$latitude,\n",
    "  longitude = monitor$meta$longitude,\n",
    "  value = monitor_data\n",
    ")\n",
    "\n",
    "readr::write_csv(tbl, sprintf(\"monitors_%s.csv\", datetime))\n",
    "```"
   ]
  },
  {
   "cell_type": "markdown",
   "metadata": {},
   "source": [
    "## Read in air quality monitor data"
   ]
  },
  {
   "cell_type": "code",
   "execution_count": 1,
   "metadata": {},
   "outputs": [],
   "source": [
    "import numpy as np\n",
    "import pandas as pd\n",
    "from datetime import datetime, timedelta\n",
    "from pyproj import Proj\n",
    "import xarray\n",
    "import matplotlib.pyplot as plt\n",
    "import cartopy.crs as ccrs\n",
    "import cartopy.feature as cfeature\n",
    "import os\n",
    "import sys"
   ]
  },
  {
   "cell_type": "code",
   "execution_count": 5,
   "metadata": {},
   "outputs": [
    {
     "name": "stdout",
     "output_type": "stream",
     "text": [
      "Shape: (925, 3)\n"
     ]
    }
   ],
   "source": [
    "df_monitor = pd.read_csv(\"../../local_data/monitors_2019031915.csv\")\n",
    "\n",
    "print(\"Shape: {}\".format(df_monitor.shape))\n"
   ]
  },
  {
   "cell_type": "code",
   "execution_count": null,
   "metadata": {},
   "outputs": [],
   "source": []
  }
 ],
 "metadata": {
  "kernelspec": {
   "display_name": "Python 3",
   "language": "python",
   "name": "python3"
  },
  "language_info": {
   "codemirror_mode": {
    "name": "ipython",
    "version": 3
   },
   "file_extension": ".py",
   "mimetype": "text/x-python",
   "name": "python",
   "nbconvert_exporter": "python",
   "pygments_lexer": "ipython3",
   "version": "3.5.5"
  }
 },
 "nbformat": 4,
 "nbformat_minor": 2
}
